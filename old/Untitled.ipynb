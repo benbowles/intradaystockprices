{
 "cells": [
  {
   "cell_type": "code",
   "execution_count": null,
   "id": "e0a82b10-8de1-4339-8c8e-499cdfde1d1c",
   "metadata": {
    "pycharm": {
     "is_executing": true
    }
   },
   "outputs": [],
   "source": [
    "%load_ext autoreload\n",
    "%autoreload 2\n",
    "\n",
    "\n",
    "from imports import *\n",
    "from load_db import main, get_delta, get_delta_spark, get_date_ticker, add_ticker_day_todb, create_cleaned_df, get_epoch_times, get_df_from_vendor, get_spark\n",
    "from helpers import random_datedf, get_day_ticker"
   ]
  },
  {
   "cell_type": "code",
   "execution_count": null,
   "id": "2a37f540-0c52-422a-8860-f0c239fee0a9",
   "metadata": {
    "pycharm": {
     "is_executing": true
    }
   },
   "outputs": [],
   "source": [
    "get_date_ticker( '2020-12-16', 'AAPL')['Close'].plot()"
   ]
  },
  {
   "cell_type": "code",
   "execution_count": null,
   "id": "094bb97a-5a00-4f02-aedd-1f79e9e96290",
   "metadata": {
    "pycharm": {
     "is_executing": true
    }
   },
   "outputs": [],
   "source": [
    "get_date_ticker( '2022-12-14', 'AAPL')['Date']"
   ]
  },
  {
   "cell_type": "code",
   "execution_count": null,
   "id": "2a5c8a00-2a19-47ba-8d98-b05ed0a90808",
   "metadata": {
    "pycharm": {
     "is_executing": true
    }
   },
   "outputs": [],
   "source": [
    "print(values)"
   ]
  },
  {
   "cell_type": "code",
   "execution_count": null,
   "id": "d2734e0d-c57c-41a4-88b9-f3df872448db",
   "metadata": {
    "pycharm": {
     "is_executing": true
    }
   },
   "outputs": [],
   "source": [
    "res = []\n",
    "import math\n",
    "for n, _ in enumerate(values):\n",
    "    if n == 0:\n",
    "        res.append(math.nan)\n",
    "    else:\n",
    "        temp = gaussian_filter1d(values[:n], 7)\n",
    "        res.append(temp[-1])"
   ]
  },
  {
   "cell_type": "code",
   "execution_count": null,
   "id": "5d8d2f46-c2b9-438e-af7e-2e2b626a9ed4",
   "metadata": {
    "pycharm": {
     "is_executing": true
    }
   },
   "outputs": [],
   "source": [
    "plt.plot(res)\n",
    "plt.plot(values.tolist())"
   ]
  },
  {
   "cell_type": "code",
   "execution_count": null,
   "id": "55d02018-ce27-433e-a082-d30b1b46dc6b",
   "metadata": {
    "pycharm": {
     "is_executing": true
    }
   },
   "outputs": [],
   "source": [
    "random_datedf('GOOG')"
   ]
  },
  {
   "cell_type": "code",
   "execution_count": null,
   "id": "26a8789f-7063-4d28-838b-c95930dda5b0",
   "metadata": {
    "pycharm": {
     "is_executing": true
    }
   },
   "outputs": [],
   "source": [
    "values = get_day_ticker('2022-12-08', 'ADBE')['Close']\n",
    "\n",
    "res = []\n",
    "import math\n",
    "for n, _ in enumerate(values):\n",
    "    if n == 0:\n",
    "        res.append(math.nan)\n",
    "    else:\n",
    "        temp = gaussian_filter1d(values[:n], 12)\n",
    "        res.append(temp[-1])"
   ]
  },
  {
   "cell_type": "code",
   "execution_count": null,
   "id": "0e50e3de-8e58-4c4a-92e0-c1ef5dc1f298",
   "metadata": {
    "pycharm": {
     "is_executing": true
    }
   },
   "outputs": [],
   "source": [
    "plt.plot(res)\n",
    "plt.plot(values.tolist())"
   ]
  },
  {
   "cell_type": "code",
   "execution_count": null,
   "id": "938b725e-96f7-40d7-a18f-2be9f25e588a",
   "metadata": {
    "pycharm": {
     "is_executing": true
    }
   },
   "outputs": [],
   "source": [
    "datedf"
   ]
  },
  {
   "cell_type": "code",
   "execution_count": null,
   "id": "cc5562e4-e32d-4d71-8917-6a4d45b57b33",
   "metadata": {},
   "outputs": [],
   "source": []
  },
  {
   "cell_type": "code",
   "execution_count": null,
   "outputs": [],
   "source": [],
   "metadata": {
    "collapsed": false,
    "pycharm": {
     "is_executing": true
    }
   }
  }
 ],
 "metadata": {
  "kernelspec": {
   "display_name": "Pyspark 3",
   "language": "python",
   "name": "kernel"
  },
  "language_info": {
   "codemirror_mode": {
    "name": "ipython",
    "version": 3
   },
   "file_extension": ".py",
   "mimetype": "text/x-python",
   "name": "python",
   "nbconvert_exporter": "python",
   "pygments_lexer": "ipython3",
   "version": "3.9.13"
  }
 },
 "nbformat": 4,
 "nbformat_minor": 5
}
